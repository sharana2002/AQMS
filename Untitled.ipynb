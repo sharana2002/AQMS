{
 "cells": [
  {
   "cell_type": "code",
   "execution_count": 21,
   "id": "2f735912",
   "metadata": {},
   "outputs": [],
   "source": [
    "import pandas as pd\n",
    "from sklearn.model_selection import train_test_split\n",
    "from sklearn.preprocessing import StandardScaler\n",
    "from sklearn.neighbors import KNeighborsClassifier\n",
    "from sklearn.metrics import accuracy_score"
   ]
  },
  {
   "cell_type": "code",
   "execution_count": 22,
   "id": "d7d21ba8",
   "metadata": {},
   "outputs": [
    {
     "name": "stdout",
     "output_type": "stream",
     "text": [
      "<bound method NDFrame.head of           PM2    PM10     NO     NO2    CO    SO2      O3    AQI    AQI_Bucket\n",
      "0       71.36  115.75   1.75   20.65  0.10  10.76  109.26    NaN           NaN\n",
      "1       81.40  124.50   1.44   20.50  0.12  15.24  127.09  184.0      Moderate\n",
      "2       78.32  129.06   1.26   26.00  0.14  26.96  117.44  197.0      Moderate\n",
      "3       88.76  135.32   6.60   30.85  0.11  33.59  111.81  198.0      Moderate\n",
      "4       64.18  104.09   2.56   28.07  0.09  19.00  138.18  188.0      Moderate\n",
      "...       ...     ...    ...     ...   ...    ...     ...    ...           ...\n",
      "108030   8.65   16.46    NaN     NaN  0.69   4.36   30.59   50.0          Good\n",
      "108031  11.80   18.47    NaN     NaN  0.68   3.49   38.95   65.0  Satisfactory\n",
      "108032  18.60   32.26  13.65  200.87  0.78   5.12   38.17   63.0  Satisfactory\n",
      "108033  16.07   39.30   7.56   29.13  0.69   5.88   29.64   57.0  Satisfactory\n",
      "108034  10.50   36.50   7.78   22.50  0.58   2.80   13.10   59.0  Satisfactory\n",
      "\n",
      "[108035 rows x 9 columns]>\n",
      "[nan 'Moderate' 'Poor' 'Very Poor' 'Satisfactory' 'Good' 'Severe']\n"
     ]
    }
   ],
   "source": [
    "# Load the dataset\n",
    "data = pd.read_csv(\"Station.csv\")\n",
    "print(data.head)\n",
    "print(data.AQI_Bucket.unique())"
   ]
  },
  {
   "cell_type": "code",
   "execution_count": 23,
   "id": "42e70c4e",
   "metadata": {},
   "outputs": [],
   "source": [
    "# Drop rows with missing values\n",
    "data.dropna(inplace=True)"
   ]
  },
  {
   "cell_type": "code",
   "execution_count": 24,
   "id": "b57a75ca",
   "metadata": {},
   "outputs": [
    {
     "name": "stdout",
     "output_type": "stream",
     "text": [
      "          PM2    PM10     NO     NO2    CO    SO2      O3    AQI\n",
      "1       81.40  124.50   1.44   20.50  0.12  15.24  127.09  184.0\n",
      "2       78.32  129.06   1.26   26.00  0.14  26.96  117.44  197.0\n",
      "3       88.76  135.32   6.60   30.85  0.11  33.59  111.81  198.0\n",
      "4       64.18  104.09   2.56   28.07  0.09  19.00  138.18  188.0\n",
      "5       72.47  114.84   5.23   23.20  0.16  10.55  109.74  173.0\n",
      "...       ...     ...    ...     ...   ...    ...     ...    ...\n",
      "108028  17.03   39.64   3.23   11.42  0.57  11.39   31.76   56.0\n",
      "108029   9.79   19.87  23.51   16.50  0.66  10.34   30.19   50.0\n",
      "108032  18.60   32.26  13.65  200.87  0.78   5.12   38.17   63.0\n",
      "108033  16.07   39.30   7.56   29.13  0.69   5.88   29.64   57.0\n",
      "108034  10.50   36.50   7.78   22.50  0.58   2.80   13.10   59.0\n",
      "\n",
      "[49285 rows x 8 columns]\n",
      "1             Moderate\n",
      "2             Moderate\n",
      "3             Moderate\n",
      "4             Moderate\n",
      "5             Moderate\n",
      "              ...     \n",
      "108028    Satisfactory\n",
      "108029            Good\n",
      "108032    Satisfactory\n",
      "108033    Satisfactory\n",
      "108034    Satisfactory\n",
      "Name: AQI_Bucket, Length: 49285, dtype: object\n"
     ]
    }
   ],
   "source": [
    "# Separate features (X) and target variable (y)\n",
    "X = data.drop(columns=['AQI_Bucket'])\n",
    "y = data['AQI_Bucket']\n",
    "# Input Data \n",
    "print(X)\n",
    "#output Data\n",
    "print(y)\n",
    "\n"
   ]
  },
  {
   "cell_type": "code",
   "execution_count": 25,
   "id": "c4c0d481",
   "metadata": {},
   "outputs": [],
   "source": [
    "# Separate features (X) and target variable (y), excluding 'StationId' and 'Date'\n",
    "X = data.drop(columns=['AQI_Bucket'])\n",
    "y = data['AQI_Bucket']"
   ]
  },
  {
   "cell_type": "code",
   "execution_count": 26,
   "id": "30882b9d",
   "metadata": {},
   "outputs": [],
   "source": [
    "# Scale numerical features (excluding 'StationId' and 'Date')\n",
    "scaler = StandardScaler()\n",
    "X_scaled = scaler.fit_transform(X)"
   ]
  },
  {
   "cell_type": "code",
   "execution_count": 27,
   "id": "69caadc7",
   "metadata": {},
   "outputs": [],
   "source": [
    "# Split the data into training and testing sets\n",
    "X_train, X_test, y_train, y_test = train_test_split(X_scaled, y, test_size=0.2, random_state=42)"
   ]
  },
  {
   "cell_type": "code",
   "execution_count": 28,
   "id": "56fb8382",
   "metadata": {},
   "outputs": [
    {
     "data": {
      "text/html": [
       "<style>#sk-container-id-2 {color: black;}#sk-container-id-2 pre{padding: 0;}#sk-container-id-2 div.sk-toggleable {background-color: white;}#sk-container-id-2 label.sk-toggleable__label {cursor: pointer;display: block;width: 100%;margin-bottom: 0;padding: 0.3em;box-sizing: border-box;text-align: center;}#sk-container-id-2 label.sk-toggleable__label-arrow:before {content: \"▸\";float: left;margin-right: 0.25em;color: #696969;}#sk-container-id-2 label.sk-toggleable__label-arrow:hover:before {color: black;}#sk-container-id-2 div.sk-estimator:hover label.sk-toggleable__label-arrow:before {color: black;}#sk-container-id-2 div.sk-toggleable__content {max-height: 0;max-width: 0;overflow: hidden;text-align: left;background-color: #f0f8ff;}#sk-container-id-2 div.sk-toggleable__content pre {margin: 0.2em;color: black;border-radius: 0.25em;background-color: #f0f8ff;}#sk-container-id-2 input.sk-toggleable__control:checked~div.sk-toggleable__content {max-height: 200px;max-width: 100%;overflow: auto;}#sk-container-id-2 input.sk-toggleable__control:checked~label.sk-toggleable__label-arrow:before {content: \"▾\";}#sk-container-id-2 div.sk-estimator input.sk-toggleable__control:checked~label.sk-toggleable__label {background-color: #d4ebff;}#sk-container-id-2 div.sk-label input.sk-toggleable__control:checked~label.sk-toggleable__label {background-color: #d4ebff;}#sk-container-id-2 input.sk-hidden--visually {border: 0;clip: rect(1px 1px 1px 1px);clip: rect(1px, 1px, 1px, 1px);height: 1px;margin: -1px;overflow: hidden;padding: 0;position: absolute;width: 1px;}#sk-container-id-2 div.sk-estimator {font-family: monospace;background-color: #f0f8ff;border: 1px dotted black;border-radius: 0.25em;box-sizing: border-box;margin-bottom: 0.5em;}#sk-container-id-2 div.sk-estimator:hover {background-color: #d4ebff;}#sk-container-id-2 div.sk-parallel-item::after {content: \"\";width: 100%;border-bottom: 1px solid gray;flex-grow: 1;}#sk-container-id-2 div.sk-label:hover label.sk-toggleable__label {background-color: #d4ebff;}#sk-container-id-2 div.sk-serial::before {content: \"\";position: absolute;border-left: 1px solid gray;box-sizing: border-box;top: 0;bottom: 0;left: 50%;z-index: 0;}#sk-container-id-2 div.sk-serial {display: flex;flex-direction: column;align-items: center;background-color: white;padding-right: 0.2em;padding-left: 0.2em;position: relative;}#sk-container-id-2 div.sk-item {position: relative;z-index: 1;}#sk-container-id-2 div.sk-parallel {display: flex;align-items: stretch;justify-content: center;background-color: white;position: relative;}#sk-container-id-2 div.sk-item::before, #sk-container-id-2 div.sk-parallel-item::before {content: \"\";position: absolute;border-left: 1px solid gray;box-sizing: border-box;top: 0;bottom: 0;left: 50%;z-index: -1;}#sk-container-id-2 div.sk-parallel-item {display: flex;flex-direction: column;z-index: 1;position: relative;background-color: white;}#sk-container-id-2 div.sk-parallel-item:first-child::after {align-self: flex-end;width: 50%;}#sk-container-id-2 div.sk-parallel-item:last-child::after {align-self: flex-start;width: 50%;}#sk-container-id-2 div.sk-parallel-item:only-child::after {width: 0;}#sk-container-id-2 div.sk-dashed-wrapped {border: 1px dashed gray;margin: 0 0.4em 0.5em 0.4em;box-sizing: border-box;padding-bottom: 0.4em;background-color: white;}#sk-container-id-2 div.sk-label label {font-family: monospace;font-weight: bold;display: inline-block;line-height: 1.2em;}#sk-container-id-2 div.sk-label-container {text-align: center;}#sk-container-id-2 div.sk-container {/* jupyter's `normalize.less` sets `[hidden] { display: none; }` but bootstrap.min.css set `[hidden] { display: none !important; }` so we also need the `!important` here to be able to override the default hidden behavior on the sphinx rendered scikit-learn.org. See: https://github.com/scikit-learn/scikit-learn/issues/21755 */display: inline-block !important;position: relative;}#sk-container-id-2 div.sk-text-repr-fallback {display: none;}</style><div id=\"sk-container-id-2\" class=\"sk-top-container\"><div class=\"sk-text-repr-fallback\"><pre>KNeighborsClassifier()</pre><b>In a Jupyter environment, please rerun this cell to show the HTML representation or trust the notebook. <br />On GitHub, the HTML representation is unable to render, please try loading this page with nbviewer.org.</b></div><div class=\"sk-container\" hidden><div class=\"sk-item\"><div class=\"sk-estimator sk-toggleable\"><input class=\"sk-toggleable__control sk-hidden--visually\" id=\"sk-estimator-id-2\" type=\"checkbox\" checked><label for=\"sk-estimator-id-2\" class=\"sk-toggleable__label sk-toggleable__label-arrow\">KNeighborsClassifier</label><div class=\"sk-toggleable__content\"><pre>KNeighborsClassifier()</pre></div></div></div></div></div>"
      ],
      "text/plain": [
       "KNeighborsClassifier()"
      ]
     },
     "execution_count": 28,
     "metadata": {},
     "output_type": "execute_result"
    }
   ],
   "source": [
    "# Train the KNN model\n",
    "k = 5  # Number of neighbors\n",
    "knn_model = KNeighborsClassifier(n_neighbors=k)\n",
    "knn_model.fit(X_train, y_train)"
   ]
  },
  {
   "cell_type": "code",
   "execution_count": 29,
   "id": "3f69995d",
   "metadata": {},
   "outputs": [
    {
     "name": "stdout",
     "output_type": "stream",
     "text": [
      "['Moderate' 'Moderate' 'Very Poor' ... 'Poor' 'Very Poor' 'Severe']\n"
     ]
    }
   ],
   "source": [
    "# Predict on the testing data\n",
    "y_pred = knn_model.predict(X_test)\n",
    "print(y_pred)"
   ]
  },
  {
   "cell_type": "code",
   "execution_count": 30,
   "id": "d620f702",
   "metadata": {},
   "outputs": [
    {
     "name": "stdout",
     "output_type": "stream",
     "text": [
      "Accuracy: 0.890128842446992\n"
     ]
    }
   ],
   "source": [
    "# Evaluate the model\n",
    "accuracy = accuracy_score(y_test, y_pred)\n",
    "print(\"Accuracy:\", accuracy)"
   ]
  },
  {
   "cell_type": "code",
   "execution_count": 31,
   "id": "af03c38c",
   "metadata": {},
   "outputs": [],
   "source": [
    "import pickle\n",
    "pickle.dump(knn_model, open(\"C:/Users/ACER/Desktop/AQMS/AQMS/knn_model.pkl\", 'wb'))\n"
   ]
  },
  {
   "cell_type": "code",
   "execution_count": 32,
   "id": "a0f3e488",
   "metadata": {},
   "outputs": [],
   "source": [
    "import pickle\n",
    "\n",
    "# Specify the file path including the file name\n",
    "file_path = \"C:/Users/ACER/Desktop/AQMS/AQMS/knn_model.pkl\"\n",
    "\n",
    "# Load the model from the file\n",
    "with open(file_path, 'rb') as file:\n",
    "    loaded_model = pickle.load(file)\n",
    "\n",
    "# Now, 'loaded_model' contains the model you saved\n"
   ]
  },
  {
   "cell_type": "code",
   "execution_count": null,
   "id": "95559cea",
   "metadata": {},
   "outputs": [],
   "source": []
  }
 ],
 "metadata": {
  "kernelspec": {
   "display_name": "Python 3 (ipykernel)",
   "language": "python",
   "name": "python3"
  },
  "language_info": {
   "codemirror_mode": {
    "name": "ipython",
    "version": 3
   },
   "file_extension": ".py",
   "mimetype": "text/x-python",
   "name": "python",
   "nbconvert_exporter": "python",
   "pygments_lexer": "ipython3",
   "version": "3.11.5"
  }
 },
 "nbformat": 4,
 "nbformat_minor": 5
}
